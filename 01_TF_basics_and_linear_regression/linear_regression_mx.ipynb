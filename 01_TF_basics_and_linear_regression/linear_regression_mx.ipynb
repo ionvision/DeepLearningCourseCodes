{
 "cells": [
  {
   "cell_type": "markdown",
   "metadata": {},
   "source": [
    "```\n",
    "1  Environment, 环境  \n",
    "2  Hyper Parameters, 超参数  \n",
    "3  Training Data, 训练数据  \n",
    "4  Prepare for Training, 训练准备  \n",
    "  4.1  mx Graph Input, mxnet图输入  \n",
    "  4.2  Construct a linear model, 构造线性模型  \n",
    "  4.3  Mean squared error, 损失函数：均方差  \n",
    "5  Start training, 开始训练  \n",
    "6  Regression result, 回归结果  \n",
    "```\n",
    "\n",
    "---\n",
    "# Environment, 环境"
   ]
  },
  {
   "cell_type": "code",
   "execution_count": 1,
   "metadata": {},
   "outputs": [],
   "source": [
    "from __future__ import print_function\n",
    "import mxnet as mx\n",
    "from mxnet import nd, autograd\n",
    "import numpy\n",
    "import matplotlib.pyplot as plt\n",
    "\n",
    "mx.random.seed(1)"
   ]
  },
  {
   "cell_type": "markdown",
   "metadata": {},
   "source": [
    "# Hyper Parameters, 超参数"
   ]
  },
  {
   "cell_type": "code",
   "execution_count": 2,
   "metadata": {
    "collapsed": true
   },
   "outputs": [],
   "source": [
    "learning_rate = 0.01\n",
    "training_epochs = 1000\n",
    "smoothing_constant = 0.01\n",
    "display_step = 50\n",
    "ctx = mx.cpu()"
   ]
  },
  {
   "cell_type": "markdown",
   "metadata": {},
   "source": [
    "# Training Data, 训练数据"
   ]
  },
  {
   "cell_type": "code",
   "execution_count": 3,
   "metadata": {
    "collapsed": true
   },
   "outputs": [],
   "source": [
    "train_X = numpy.asarray([3.3, 4.4, 5.5, 6.71, 6.93, 4.168, 9.779, 6.182, 7.59, 2.167,\n",
    "                         7.042, 10.791, 5.313, 7.997, 5.654, 9.27,3.1])\n",
    "train_Y = numpy.asarray([1.7, 2.76, 2.09, 3.19, 1.694, 1.573, 3.366, 2.596, 2.53, 1.221,\n",
    "                         2.827, 3.465, 1.65, 2.904, 2.42, 2.94, 1.3])\n",
    "n_samples = train_X.shape[0]"
   ]
  },
  {
   "cell_type": "markdown",
   "metadata": {},
   "source": [
    "# Prepare for Training, 训练准备"
   ]
  },
  {
   "cell_type": "markdown",
   "metadata": {},
   "source": [
    "## mx Graph Input, mxnet图输入"
   ]
  },
  {
   "cell_type": "code",
   "execution_count": 4,
   "metadata": {},
   "outputs": [],
   "source": [
    "# Set model weights，初始化网络模型的权重\n",
    "W = nd.random_normal(shape=1)\n",
    "b = nd.random_normal(shape=1)\n",
    "\n",
    "params = [W, b]\n",
    "for param in params:\n",
    "    param.attach_grad()"
   ]
  },
  {
   "cell_type": "markdown",
   "metadata": {},
   "source": [
    "## Construct a linear model, 构造线性模型"
   ]
  },
  {
   "cell_type": "code",
   "execution_count": 5,
   "metadata": {},
   "outputs": [],
   "source": [
    "def net(X):\n",
    "    return X*W + b"
   ]
  },
  {
   "cell_type": "markdown",
   "metadata": {},
   "source": [
    "## Mean squared error, 损失函数：均方差"
   ]
  },
  {
   "cell_type": "code",
   "execution_count": 6,
   "metadata": {
    "collapsed": true
   },
   "outputs": [],
   "source": [
    "# Mean squared error，损失函数：均方差\n",
    "def square_loss(yhat, y):\n",
    "    return nd.mean((yhat - y) ** 2)\n",
    "\n",
    "# Gradient descent， 优化方式：梯度下降\n",
    "def SGD(params, lr):\n",
    "    for param in params:\n",
    "        param[:] = param - lr * param.grad"
   ]
  },
  {
   "cell_type": "markdown",
   "metadata": {},
   "source": [
    "# Start training, 开始训练"
   ]
  },
  {
   "cell_type": "code",
   "execution_count": 7,
   "metadata": {},
   "outputs": [
    {
     "name": "stdout",
     "output_type": "stream",
     "text": [
      "Epoch: 0049 cost= 0.184008121 W= 0.321076 b= 0.306496\n",
      "Epoch: 0099 cost= 0.177502364 W= 0.313129 b= 0.362833\n",
      "Epoch: 0149 cost= 0.172400355 W= 0.306092 b= 0.412724\n",
      "Epoch: 0199 cost= 0.168399349 W= 0.29986 b= 0.456905\n",
      "Epoch: 0249 cost= 0.165261611 W= 0.294342 b= 0.49603\n",
      "Epoch: 0299 cost= 0.162800938 W= 0.289454 b= 0.530678\n",
      "Epoch: 0349 cost= 0.160871148 W= 0.285127 b= 0.561361\n",
      "Epoch: 0399 cost= 0.159357831 W= 0.281294 b= 0.588533\n",
      "Epoch: 0449 cost= 0.158170953 W= 0.2779 b= 0.612595\n",
      "Epoch: 0499 cost= 0.157240272 W= 0.274894 b= 0.633904\n",
      "Epoch: 0549 cost= 0.156510383 W= 0.272232 b= 0.652774\n",
      "Epoch: 0599 cost= 0.155938014 W= 0.269875 b= 0.669485\n",
      "Epoch: 0649 cost= 0.155489087 W= 0.267788 b= 0.684284\n",
      "Epoch: 0699 cost= 0.155137077 W= 0.265939 b= 0.697389\n",
      "Epoch: 0749 cost= 0.154861033 W= 0.264302 b= 0.708994\n",
      "Epoch: 0799 cost= 0.154644519 W= 0.262853 b= 0.719271\n",
      "Epoch: 0849 cost= 0.154474735 W= 0.261569 b= 0.728372\n",
      "Epoch: 0899 cost= 0.154341608 W= 0.260432 b= 0.736432\n",
      "Epoch: 0949 cost= 0.154237166 W= 0.259426 b= 0.743569\n",
      "Epoch: 0999 cost= 0.154155269 W= 0.258534 b= 0.74989\n"
     ]
    }
   ],
   "source": [
    "# Fit training data\n",
    "data = nd.array(train_X)\n",
    "label = nd.array(train_Y)\n",
    "losses = []\n",
    "moving_loss = 0\n",
    "niter = 0\n",
    "\n",
    "for e in range(training_epochs):\n",
    "    with autograd.record():\n",
    "        output = net(data)\n",
    "        loss = square_loss(output, label)\n",
    "    loss.backward()\n",
    "    SGD(params, learning_rate)\n",
    "\n",
    "    ##########################\n",
    "    #  Keep a moving average of the losses\n",
    "    ##########################\n",
    "    niter +=1\n",
    "    curr_loss = nd.mean(loss).asscalar()\n",
    "    moving_loss = (1 - smoothing_constant) * moving_loss + (smoothing_constant) * curr_loss\n",
    "\n",
    "    # correct the bias from the moving averages\n",
    "    est_loss = moving_loss/(1-(1-smoothing_constant)**niter)\n",
    "\n",
    "    losses.append(est_loss)\n",
    "    if (e + 1) % display_step == 0:\n",
    "        print(\"Epoch:\", '%04d' % (e), \"cost=\", \"{:.9f}\".format(curr_loss), \"W=\", W.asnumpy()[0], \"b=\", b.asnumpy()[0])"
   ]
  },
  {
   "cell_type": "markdown",
   "metadata": {},
   "source": [
    "# Regression result, 回归结果"
   ]
  },
  {
   "cell_type": "code",
   "execution_count": 8,
   "metadata": {},
   "outputs": [
    {
     "data": {
      "image/png": "[encoded data removed]",
      "text/plain": [
       "<matplotlib.figure.Figure at 0x7fa6b13930d0>"
      ]
     },
     "metadata": {},
     "output_type": "display_data"
    }
   ],
   "source": [
    "def plot(losses, X, Y, n_samples=10):\n",
    "    xs = list(range(len(losses)))\n",
    "    f, (fg1, fg2) = plt.subplots(1, 2)\n",
    "    fg1.set_title('Loss during training')\n",
    "    fg1.plot(xs, losses, '-r')\n",
    "    fg2.set_title('Estimated vs real function')\n",
    "    fg2.plot(X.asnumpy(), net(X).asnumpy(), 'or', label='Estimated')\n",
    "    fg2.plot(X.asnumpy(), Y.asnumpy(), '*g', label='Real')\n",
    "    fg2.legend()\n",
    "    plt.show()\n",
    "    \n",
    "plot(losses, data, label)"
   ]
  }
 ],
 "metadata": {
  "anaconda-cloud": {},
  "kernelspec": {
   "display_name": "Python 2",
   "language": "python",
   "name": "python2"
  },
  "language_info": {
   "codemirror_mode": {
    "name": "ipython",
    "version": 2
   },
   "file_extension": ".py",
   "mimetype": "text/x-python",
   "name": "python",
   "nbconvert_exporter": "python",
   "pygments_lexer": "ipython2",
   "version": "2.7.12"
  },
  "toc": {
   "colors": {
    "hover_highlight": "#DAA520",
    "navigate_num": "#000000",
    "navigate_text": "#333333",
    "running_highlight": "#FF0000",
    "selected_highlight": "#FFD700",
    "sidebar_border": "#EEEEEE",
    "wrapper_background": "#FFFFFF"
   },
   "moveMenuLeft": true,
   "nav_menu": {
    "height": "263px",
    "width": "509px"
   },
   "navigate_menu": true,
   "number_sections": true,
   "sideBar": true,
   "threshold": 4,
   "toc_cell": false,
   "toc_section_display": "block",
   "toc_window_display": true,
   "widenNotebook": false
  }
 },
 "nbformat": 4,
 "nbformat_minor": 1
}
