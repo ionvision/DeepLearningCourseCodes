{
 "cells": [
  {
   "cell_type": "markdown",
   "metadata": {},
   "source": [
    "# VGG19 示例 - TensorLayer实现"
   ]
  },
  {
   "cell_type": "code",
   "execution_count": 1,
   "metadata": {
    "collapsed": true
   },
   "outputs": [],
   "source": [
    "import tensorflow as tf\n",
    "import tensorlayer as tl\n",
    "from tensorlayer.layers import *\n",
    "from data.imagenet_classes import *\n",
    "import os, time, inspect, skimage\n",
    "import numpy as np\n",
    "import skimage.io\n",
    "import skimage.transform"
   ]
  },
  {
   "cell_type": "code",
   "execution_count": 2,
   "metadata": {},
   "outputs": [
    {
     "data": {
      "text/plain": [
       "'\\nVGG-19 for ImageNet\\n--------------------\\nPre-trained model in this example - VGG19 NPZ and\\ntrainable examples of VGG16/19 in TensorFlow can be found here:\\nhttps://github.com/machrisaa/tensorflow-vgg\\n\\nFor simplified CNN layer see \"Convolutional layer (Simplified)\"\\nin read the docs website.\\n'"
      ]
     },
     "execution_count": 2,
     "metadata": {},
     "output_type": "execute_result"
    }
   ],
   "source": [
    "\"\"\"\n",
    "VGG-19 for ImageNet\n",
    "--------------------\n",
    "代码中需要的VGG19 NPZ模型文件可以从下列地址下载\n",
    "https://github.com/machrisaa/tensorflow-vgg\n",
    "https://mega.nz/#!xZ8glS6J!MAnE91ND_WyfZ_8mvkuSa2YcA7q-1ehfSm-Q1fxOvvs\n",
    "\"\"\""
   ]
  },
  {
   "cell_type": "markdown",
   "metadata": {},
   "source": [
    "## 载入图片数据"
   ]
  },
  {
   "cell_type": "code",
   "execution_count": 3,
   "metadata": {
    "collapsed": true
   },
   "outputs": [],
   "source": [
    "VGG_MEAN = [103.939, 116.779, 123.68]\n",
    "\n",
    "def load_image(path):\n",
    "    # load image\n",
    "    img = skimage.io.imread(path)\n",
    "    img = img / 255.0\n",
    "    assert (0 <= img).all() and (img <= 1.0).all()\n",
    "    # print \"Original Image Shape: \", img.shape\n",
    "    # we crop image from center\n",
    "    short_edge = min(img.shape[:2])\n",
    "    yy = int((img.shape[0] - short_edge) / 2)\n",
    "    xx = int((img.shape[1] - short_edge) / 2)\n",
    "    crop_img = img[yy: yy + short_edge, xx: xx + short_edge]\n",
    "    # resize to 224, 224\n",
    "    resized_img = skimage.transform.resize(crop_img, (224, 224))\n",
    "    return resized_img"
   ]
  },
  {
   "cell_type": "code",
   "execution_count": 4,
   "metadata": {
    "collapsed": true
   },
   "outputs": [],
   "source": [
    "def print_prob(prob):\n",
    "    synset = class_names\n",
    "    # print prob\n",
    "    pred = np.argsort(prob)[::-1]\n",
    "    # Get top1 label\n",
    "    top1 = synset[pred[0]]\n",
    "    print(\"Top1: \", top1, prob[pred[0]])\n",
    "    # Get top5 label\n",
    "    top5 = [(synset[pred[i]], prob[pred[i]]) for i in range(5)]\n",
    "    print(\"Top5: \", top5)\n",
    "    return top1"
   ]
  },
  {
   "cell_type": "markdown",
   "metadata": {},
   "source": [
    "## 定义VGG19模型"
   ]
  },
  {
   "cell_type": "code",
   "execution_count": 5,
   "metadata": {
    "collapsed": true
   },
   "outputs": [],
   "source": [
    "def Vgg19(rgb):\n",
    "    \"\"\"\n",
    "    Build the VGG 19 Model\n",
    "\n",
    "    Parameters\n",
    "    -----------\n",
    "    rgb : rgb image placeholder [batch, height, width, 3] values scaled [0, 1]\n",
    "    \"\"\"\n",
    "    start_time = time.time()\n",
    "    print(\"build model started\")\n",
    "    rgb_scaled = rgb * 255.0\n",
    "    # Convert RGB to BGR\n",
    "    if tf.__version__ <= '0.11':\n",
    "        red, green, blue = tf.split(3, 3, rgb_scaled)\n",
    "    else: # TF 1.0\n",
    "        print(rgb_scaled)\n",
    "        red, green, blue = tf.split(rgb_scaled, 3, 3)\n",
    "    assert red.get_shape().as_list()[1:] == [224, 224, 1]\n",
    "    assert green.get_shape().as_list()[1:] == [224, 224, 1]\n",
    "    assert blue.get_shape().as_list()[1:] == [224, 224, 1]\n",
    "    if tf.__version__ <= '0.11':\n",
    "        bgr = tf.concat(3, [\n",
    "            blue - VGG_MEAN[0],\n",
    "            green - VGG_MEAN[1],\n",
    "            red - VGG_MEAN[2],\n",
    "        ])\n",
    "    else:\n",
    "        bgr = tf.concat([\n",
    "            blue - VGG_MEAN[0],\n",
    "            green - VGG_MEAN[1],\n",
    "            red - VGG_MEAN[2],\n",
    "        ], axis=3)\n",
    "    assert bgr.get_shape().as_list()[1:] == [224, 224, 3]\n",
    "\n",
    "    \"\"\" input layer \"\"\"\n",
    "    net_in = InputLayer(bgr, name='input')\n",
    "    \"\"\" conv1 \"\"\"\n",
    "    network = Conv2dLayer(net_in, act = tf.nn.relu,\n",
    "                shape = [3, 3, 3, 64], strides = [1, 1, 1, 1],\n",
    "                padding='SAME', name ='conv1_1')\n",
    "    network = Conv2dLayer(network, act = tf.nn.relu,\n",
    "                shape = [3, 3, 64, 64], strides = [1, 1, 1, 1],\n",
    "                padding='SAME', name ='conv1_2')\n",
    "    network = PoolLayer(network, ksize=[1, 2, 2, 1],\n",
    "                strides=[1, 2, 2, 1], padding='SAME',\n",
    "                pool = tf.nn.max_pool, name ='pool1')\n",
    "    \"\"\" conv2 \"\"\"\n",
    "    network = Conv2dLayer(network, act = tf.nn.relu,\n",
    "                shape = [3, 3, 64, 128], strides = [1, 1, 1, 1],\n",
    "                padding='SAME', name ='conv2_1')\n",
    "    network = Conv2dLayer(network, act = tf.nn.relu,\n",
    "                shape = [3, 3, 128, 128], strides = [1, 1, 1, 1],\n",
    "                padding='SAME', name ='conv2_2')\n",
    "    network = PoolLayer(network, ksize=[1, 2, 2, 1],\n",
    "                strides=[1, 2, 2, 1], padding='SAME',\n",
    "                pool = tf.nn.max_pool, name ='pool2')\n",
    "    \"\"\" conv3 \"\"\"\n",
    "    network = Conv2dLayer(network, act = tf.nn.relu,\n",
    "                shape = [3, 3, 128, 256], strides = [1, 1, 1, 1],\n",
    "                padding='SAME', name ='conv3_1')\n",
    "    network = Conv2dLayer(network, act = tf.nn.relu,\n",
    "                shape = [3, 3, 256, 256], strides = [1, 1, 1, 1],\n",
    "                padding='SAME', name ='conv3_2')\n",
    "    network = Conv2dLayer(network, act = tf.nn.relu,\n",
    "                shape = [3, 3, 256, 256], strides = [1, 1, 1, 1],\n",
    "                padding='SAME', name ='conv3_3')\n",
    "    network = Conv2dLayer(network, act = tf.nn.relu,\n",
    "                shape = [3, 3, 256, 256], strides = [1, 1, 1, 1],\n",
    "                padding='SAME', name ='conv3_4')\n",
    "    network = PoolLayer(network, ksize=[1, 2, 2, 1],\n",
    "                strides=[1, 2, 2, 1], padding='SAME',\n",
    "                pool = tf.nn.max_pool, name ='pool3')\n",
    "    \"\"\" conv4 \"\"\"\n",
    "    network = Conv2dLayer(network, act = tf.nn.relu,\n",
    "                shape = [3, 3, 256, 512], strides = [1, 1, 1, 1],\n",
    "                padding='SAME', name ='conv4_1')\n",
    "    network = Conv2dLayer(network, act = tf.nn.relu,\n",
    "                shape = [3, 3, 512, 512], strides = [1, 1, 1, 1],\n",
    "                padding='SAME', name ='conv4_2')\n",
    "    network = Conv2dLayer(network, act = tf.nn.relu,\n",
    "                shape = [3, 3, 512, 512], strides = [1, 1, 1, 1],\n",
    "                padding='SAME', name ='conv4_3')\n",
    "    network = Conv2dLayer(network, act = tf.nn.relu,\n",
    "                shape = [3, 3, 512, 512], strides = [1, 1, 1, 1],\n",
    "                padding='SAME', name ='conv4_4')\n",
    "    network = PoolLayer(network, ksize=[1, 2, 2, 1],\n",
    "                strides=[1, 2, 2, 1], padding='SAME',\n",
    "                pool = tf.nn.max_pool, name ='pool4')\n",
    "    \"\"\" conv5 \"\"\"\n",
    "    network = Conv2dLayer(network, act = tf.nn.relu,\n",
    "                shape = [3, 3, 512, 512], strides = [1, 1, 1, 1],\n",
    "                padding='SAME', name ='conv5_1')\n",
    "    network = Conv2dLayer(network, act = tf.nn.relu,\n",
    "                shape = [3, 3, 512, 512], strides = [1, 1, 1, 1],\n",
    "                padding='SAME', name ='conv5_2')\n",
    "    network = Conv2dLayer(network, act = tf.nn.relu,\n",
    "                shape = [3, 3, 512, 512], strides = [1, 1, 1, 1],\n",
    "                padding='SAME', name ='conv5_3')\n",
    "    network = Conv2dLayer(network, act = tf.nn.relu,\n",
    "                shape = [3, 3, 512, 512], strides = [1, 1, 1, 1],\n",
    "                padding='SAME', name ='conv5_4')\n",
    "    network = PoolLayer(network, ksize=[1, 2, 2, 1],\n",
    "                strides=[1, 2, 2, 1], padding='SAME',\n",
    "                pool = tf.nn.max_pool, name ='pool5')\n",
    "    \"\"\" fc 6~8 \"\"\"\n",
    "    network = FlattenLayer(network, name='flatten')\n",
    "    network = DenseLayer(network, n_units=4096, act=tf.nn.relu, name='fc6')\n",
    "    network = DenseLayer(network, n_units=4096, act=tf.nn.relu, name='fc7')\n",
    "    network = DenseLayer(network, n_units=1000, act=tf.identity, name='fc8')\n",
    "    print(\"build model finished: %fs\" % (time.time() - start_time))\n",
    "    return network"
   ]
  },
  {
   "cell_type": "markdown",
   "metadata": {},
   "source": [
    "## 定义简化版VGG19模型"
   ]
  },
  {
   "cell_type": "code",
   "execution_count": 6,
   "metadata": {
    "collapsed": true
   },
   "outputs": [],
   "source": [
    "def Vgg19_simple_api(rgb):\n",
    "    \"\"\"\n",
    "    Build the VGG 19 Model\n",
    "\n",
    "    Parameters\n",
    "    -----------\n",
    "    rgb : rgb image placeholder [batch, height, width, 3] values scaled [0, 1]\n",
    "    \"\"\"\n",
    "    start_time = time.time()\n",
    "    print(\"build model started\")\n",
    "    rgb_scaled = rgb * 255.0\n",
    "    # Convert RGB to BGR\n",
    "    if tf.__version__ <= '0.11':\n",
    "        red, green, blue = tf.split(3, 3, rgb_scaled)\n",
    "    else: # TF 1.0\n",
    "        print(rgb_scaled)\n",
    "        red, green, blue = tf.split(rgb_scaled, 3, 3)\n",
    "    assert red.get_shape().as_list()[1:] == [224, 224, 1]\n",
    "    assert green.get_shape().as_list()[1:] == [224, 224, 1]\n",
    "    assert blue.get_shape().as_list()[1:] == [224, 224, 1]\n",
    "    if tf.__version__ <= '0.11':\n",
    "        bgr = tf.concat(3, [\n",
    "            blue - VGG_MEAN[0],\n",
    "            green - VGG_MEAN[1],\n",
    "            red - VGG_MEAN[2],\n",
    "        ])\n",
    "    else:\n",
    "        bgr = tf.concat([\n",
    "            blue - VGG_MEAN[0],\n",
    "            green - VGG_MEAN[1],\n",
    "            red - VGG_MEAN[2],\n",
    "        ], axis=3)\n",
    "    assert bgr.get_shape().as_list()[1:] == [224, 224, 3]\n",
    "\n",
    "    \"\"\" input layer \"\"\"\n",
    "    net_in = InputLayer(bgr, name='input')\n",
    "    \"\"\" conv1 \"\"\"\n",
    "    network = Conv2d(net_in, n_filter=64, filter_size=(3, 3),\n",
    "                strides=(1, 1), act=tf.nn.relu,padding='SAME', name='conv1_1')\n",
    "    network = Conv2d(network, n_filter=64, filter_size=(3, 3),\n",
    "                strides=(1, 1), act=tf.nn.relu,padding='SAME', name='conv1_2')\n",
    "    network = MaxPool2d(network, filter_size=(2, 2), strides=(2, 2),\n",
    "                padding='SAME', name='pool1')\n",
    "    \"\"\" conv2 \"\"\"\n",
    "    network = Conv2d(network, n_filter=128, filter_size=(3, 3),\n",
    "                strides=(1, 1), act=tf.nn.relu,padding='SAME', name='conv2_1')\n",
    "    network = Conv2d(network, n_filter=128, filter_size=(3, 3),\n",
    "                strides=(1, 1), act=tf.nn.relu,padding='SAME', name='conv2_2')\n",
    "    network = MaxPool2d(network, filter_size=(2, 2), strides=(2, 2),\n",
    "                padding='SAME', name='pool2')\n",
    "    \"\"\" conv3 \"\"\"\n",
    "    network = Conv2d(network, n_filter=256, filter_size=(3, 3),\n",
    "                strides=(1, 1), act=tf.nn.relu,padding='SAME', name='conv3_1')\n",
    "    network = Conv2d(network, n_filter=256, filter_size=(3, 3),\n",
    "                strides=(1, 1), act=tf.nn.relu,padding='SAME', name='conv3_2')\n",
    "    network = Conv2d(network, n_filter=256, filter_size=(3, 3),\n",
    "                strides=(1, 1), act=tf.nn.relu,padding='SAME', name='conv3_3')\n",
    "    network = Conv2d(network, n_filter=256, filter_size=(3, 3),\n",
    "                strides=(1, 1), act=tf.nn.relu,padding='SAME', name='conv3_4')\n",
    "    network = MaxPool2d(network, filter_size=(2, 2), strides=(2, 2),\n",
    "                padding='SAME', name='pool3')\n",
    "    \"\"\" conv4 \"\"\"\n",
    "    network = Conv2d(network, n_filter=512, filter_size=(3, 3),\n",
    "                strides=(1, 1), act=tf.nn.relu,padding='SAME', name='conv4_1')\n",
    "    network = Conv2d(network, n_filter=512, filter_size=(3, 3),\n",
    "                strides=(1, 1), act=tf.nn.relu,padding='SAME', name='conv4_2')\n",
    "    network = Conv2d(network, n_filter=512, filter_size=(3, 3),\n",
    "                strides=(1, 1), act=tf.nn.relu,padding='SAME', name='conv4_3')\n",
    "    network = Conv2d(network, n_filter=512, filter_size=(3, 3),\n",
    "                strides=(1, 1), act=tf.nn.relu,padding='SAME', name='conv4_4')\n",
    "    network = MaxPool2d(network, filter_size=(2, 2), strides=(2, 2),\n",
    "                padding='SAME', name='pool4')\n",
    "    \"\"\" conv5 \"\"\"\n",
    "    network = Conv2d(network, n_filter=512, filter_size=(3, 3),\n",
    "                strides=(1, 1), act=tf.nn.relu,padding='SAME', name='conv5_1')\n",
    "    network = Conv2d(network, n_filter=512, filter_size=(3, 3),\n",
    "                strides=(1, 1), act=tf.nn.relu,padding='SAME', name='conv5_2')\n",
    "    network = Conv2d(network, n_filter=512, filter_size=(3, 3),\n",
    "                strides=(1, 1), act=tf.nn.relu,padding='SAME', name='conv5_3')\n",
    "    network = Conv2d(network, n_filter=512, filter_size=(3, 3),\n",
    "                strides=(1, 1), act=tf.nn.relu,padding='SAME', name='conv5_4')\n",
    "    network = MaxPool2d(network, filter_size=(2, 2), strides=(2, 2),\n",
    "                padding='SAME', name='pool5')\n",
    "    \"\"\" fc 6~8 \"\"\"\n",
    "    network = FlattenLayer(network, name='flatten')\n",
    "    network = DenseLayer(network, n_units=4096, act=tf.nn.relu, name='fc6')\n",
    "    network = DenseLayer(network, n_units=4096, act=tf.nn.relu, name='fc7')\n",
    "    network = DenseLayer(network, n_units=1000, act=tf.identity, name='fc8')\n",
    "    print(\"build model finished: %fs\" % (time.time() - start_time))\n",
    "    return network"
   ]
  },
  {
   "cell_type": "markdown",
   "metadata": {},
   "source": [
    "## 初始化参数"
   ]
  },
  {
   "cell_type": "code",
   "execution_count": 7,
   "metadata": {},
   "outputs": [
    {
     "name": "stdout",
     "output_type": "stream",
     "text": [
      "build model started\n",
      "Tensor(\"mul:0\", shape=(?, 224, 224, 3), dtype=float32)\n",
      "  [TL] InputLayer  input: (?, 224, 224, 3)\n",
      "  [TL] Conv2dLayer conv1_1: shape:[3, 3, 3, 64] strides:[1, 1, 1, 1] pad:SAME act:relu\n",
      "  [TL] Conv2dLayer conv1_2: shape:[3, 3, 64, 64] strides:[1, 1, 1, 1] pad:SAME act:relu\n",
      "  [TL] PoolLayer   pool1: ksize:[1, 2, 2, 1] strides:[1, 2, 2, 1] padding:SAME pool:max_pool\n",
      "  [TL] Conv2dLayer conv2_1: shape:[3, 3, 64, 128] strides:[1, 1, 1, 1] pad:SAME act:relu\n",
      "  [TL] Conv2dLayer conv2_2: shape:[3, 3, 128, 128] strides:[1, 1, 1, 1] pad:SAME act:relu\n",
      "  [TL] PoolLayer   pool2: ksize:[1, 2, 2, 1] strides:[1, 2, 2, 1] padding:SAME pool:max_pool\n",
      "  [TL] Conv2dLayer conv3_1: shape:[3, 3, 128, 256] strides:[1, 1, 1, 1] pad:SAME act:relu\n",
      "  [TL] Conv2dLayer conv3_2: shape:[3, 3, 256, 256] strides:[1, 1, 1, 1] pad:SAME act:relu\n",
      "  [TL] Conv2dLayer conv3_3: shape:[3, 3, 256, 256] strides:[1, 1, 1, 1] pad:SAME act:relu\n",
      "  [TL] Conv2dLayer conv3_4: shape:[3, 3, 256, 256] strides:[1, 1, 1, 1] pad:SAME act:relu\n",
      "  [TL] PoolLayer   pool3: ksize:[1, 2, 2, 1] strides:[1, 2, 2, 1] padding:SAME pool:max_pool\n",
      "  [TL] Conv2dLayer conv4_1: shape:[3, 3, 256, 512] strides:[1, 1, 1, 1] pad:SAME act:relu\n",
      "  [TL] Conv2dLayer conv4_2: shape:[3, 3, 512, 512] strides:[1, 1, 1, 1] pad:SAME act:relu\n",
      "  [TL] Conv2dLayer conv4_3: shape:[3, 3, 512, 512] strides:[1, 1, 1, 1] pad:SAME act:relu\n",
      "  [TL] Conv2dLayer conv4_4: shape:[3, 3, 512, 512] strides:[1, 1, 1, 1] pad:SAME act:relu\n",
      "  [TL] PoolLayer   pool4: ksize:[1, 2, 2, 1] strides:[1, 2, 2, 1] padding:SAME pool:max_pool\n",
      "  [TL] Conv2dLayer conv5_1: shape:[3, 3, 512, 512] strides:[1, 1, 1, 1] pad:SAME act:relu\n",
      "  [TL] Conv2dLayer conv5_2: shape:[3, 3, 512, 512] strides:[1, 1, 1, 1] pad:SAME act:relu\n",
      "  [TL] Conv2dLayer conv5_3: shape:[3, 3, 512, 512] strides:[1, 1, 1, 1] pad:SAME act:relu\n",
      "  [TL] Conv2dLayer conv5_4: shape:[3, 3, 512, 512] strides:[1, 1, 1, 1] pad:SAME act:relu\n",
      "  [TL] PoolLayer   pool5: ksize:[1, 2, 2, 1] strides:[1, 2, 2, 1] padding:SAME pool:max_pool\n",
      "  [TL] FlattenLayer flatten: 25088\n",
      "  [TL] DenseLayer  fc6: 4096 relu\n",
      "  [TL] DenseLayer  fc7: 4096 relu\n",
      "  [TL] DenseLayer  fc8: 1000 identity\n",
      "build model finished: 0.210440s\n"
     ]
    }
   ],
   "source": [
    "sess = tf.InteractiveSession()\n",
    "x = tf.placeholder(\"float\", [None, 224, 224, 3])\n",
    "# network = Vgg19(x)\n",
    "network = Vgg19_simple_api(x)\n",
    "y = network.outputs\n",
    "probs = tf.nn.softmax(y, name=\"prob\")\n",
    "tl.layers.initialize_global_variables(sess)"
   ]
  },
  {
   "cell_type": "markdown",
   "metadata": {},
   "source": [
    "## 运行"
   ]
  },
  {
   "cell_type": "code",
   "execution_count": 8,
   "metadata": {},
   "outputs": [
    {
     "name": "stdout",
     "output_type": "stream",
     "text": [
      "  Loading conv1_1: (3, 3, 3, 64), (64,)\n",
      "  Loading conv1_2: (3, 3, 64, 64), (64,)\n",
      "  Loading conv2_1: (3, 3, 64, 128), (128,)\n",
      "  Loading conv2_2: (3, 3, 128, 128), (128,)\n",
      "  Loading conv3_1: (3, 3, 128, 256), (256,)\n",
      "  Loading conv3_2: (3, 3, 256, 256), (256,)\n",
      "  Loading conv3_3: (3, 3, 256, 256), (256,)\n",
      "  Loading conv3_4: (3, 3, 256, 256), (256,)\n",
      "  Loading conv4_1: (3, 3, 256, 512), (512,)\n",
      "  Loading conv4_2: (3, 3, 512, 512), (512,)\n",
      "  Loading conv4_3: (3, 3, 512, 512), (512,)\n",
      "  Loading conv4_4: (3, 3, 512, 512), (512,)\n",
      "  Loading conv5_1: (3, 3, 512, 512), (512,)\n",
      "  Loading conv5_2: (3, 3, 512, 512), (512,)\n",
      "  Loading conv5_3: (3, 3, 512, 512), (512,)\n",
      "  Loading conv5_4: (3, 3, 512, 512), (512,)\n",
      "  Loading fc6: (25088, 4096), (4096,)\n",
      "  Loading fc7: (4096, 4096), (4096,)\n",
      "  Loading fc8: (4096, 1000), (1000,)\n",
      "Restoring model from npz file\n"
     ]
    },
    {
     "name": "stderr",
     "output_type": "stream",
     "text": [
      "/home/xrong/.pyenv/versions/anaconda3-4.4.0/lib/python3.6/site-packages/skimage/transform/_warps.py:84: UserWarning: The default mode, 'constant', will be changed to 'reflect' in skimage 0.15.\n",
      "  warn(\"The default mode, 'constant', will be changed to 'reflect' in \"\n"
     ]
    },
    {
     "name": "stdout",
     "output_type": "stream",
     "text": [
      "End time : 1.258s\n",
      "Top1:  tiger, Panthera tigris 0.820631\n",
      "Top5:  [('tiger, Panthera tigris', 0.82063121), ('tiger cat', 0.17823468), ('jaguar, panther, Panthera onca, Felis onca', 0.00073050178), ('zebra', 0.00016781602), ('tabby, tabby cat', 5.5686938e-05)]\n"
     ]
    },
    {
     "data": {
      "text/plain": [
       "'tiger, Panthera tigris'"
      ]
     },
     "execution_count": 8,
     "metadata": {},
     "output_type": "execute_result"
    }
   ],
   "source": [
    "# You need to download the pre-trained model - VGG19 NPZ\n",
    "vgg19_npy_path = \"vgg19.npy\"\n",
    "if not os.path.isfile(vgg19_npy_path):\n",
    "    print(\"请从 https://github.com/machrisaa/tensorflow-vgg 下载 vgg19.npz 模型文件\")\n",
    "    exit()\n",
    "npz = np.load(vgg19_npy_path, encoding='latin1').item()\n",
    "\n",
    "params = []\n",
    "for val in sorted( npz.items() ):\n",
    "    W = np.asarray(val[1][0])\n",
    "    b = np.asarray(val[1][1])\n",
    "    print(\"  Loading %s: %s, %s\" % (val[0], W.shape, b.shape))\n",
    "    params.extend([W, b])\n",
    "\n",
    "print(\"Restoring model from npz file\")\n",
    "tl.files.assign_params(sess, params, network)\n",
    "\n",
    "img1 = load_image(\"data/tiger.jpeg\") # test data in github\n",
    "img1 = img1.reshape((1, 224, 224, 3))\n",
    "start_time = time.time()\n",
    "prob = sess.run(probs, feed_dict= {x : img1})\n",
    "print(\"End time : %.5ss\" % (time.time() - start_time))\n",
    "\n",
    "print_prob(prob[0])"
   ]
  }
 ],
 "metadata": {
  "kernelspec": {
   "display_name": "Python 3",
   "language": "python",
   "name": "python3"
  },
  "language_info": {
   "codemirror_mode": {
    "name": "ipython",
    "version": 3
   },
   "file_extension": ".py",
   "mimetype": "text/x-python",
   "name": "python",
   "nbconvert_exporter": "python",
   "pygments_lexer": "ipython3",
   "version": "3.6.2"
  }
 },
 "nbformat": 4,
 "nbformat_minor": 2
}
